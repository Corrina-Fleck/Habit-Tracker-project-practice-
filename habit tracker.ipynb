{
 "cells": [
  {
   "cell_type": "code",
   "execution_count": null,
   "metadata": {},
   "outputs": [],
   "source": [
    "#Habit Tracker Code by Corrina Fleck 09-04-2025"
   ]
  },
  {
   "cell_type": "code",
   "execution_count": 2,
   "metadata": {},
   "outputs": [],
   "source": [
    "habits = []  \n",
    "from datetime import datetime, timedelta\n",
    "\n",
    "def add_habit():\n",
    "    habit_name = input(\"Enter the name of the new habit: \")\n",
    "    new_habit = {\n",
    "        'name': habit_name,\n",
    "        'completed_days': 0,\n",
    "        'current_streak': 0,\n",
    "        'last_completed': None  \n",
    "    }\n",
    "    habits.append(new_habit)\n",
    "    print(f\"Habit '{habit_name}' added successfully!\")\n"
   ]
  },
  {
   "cell_type": "code",
   "execution_count": 3,
   "metadata": {},
   "outputs": [],
   "source": [
    "def mark_habit_complete():\n",
    "    if not habits:\n",
    "        print(\"No habits to complete. Please add a habit first.\")\n",
    "        return\n",
    "\n",
    "    print(\"\\nYour Habits:\")\n",
    "    for index, habit in enumerate(habits, start=1):\n",
    "        print(f\"{index}. {habit['name']} (Current Streak: {habit['current_streak']})\")\n",
    "\n",
    "    try:\n",
    "        choice = int(input(\"Enter the number of the habit you completed today: \"))\n",
    "        if 1 <= choice <= len(habits):\n",
    "            habit = habits[choice - 1]\n",
    "            today = datetime.today().date()\n",
    "\n",
    "            # Always increase total completed_days first\n",
    "            habit['completed_days'] += 1\n",
    "\n",
    "            if habit['last_completed']:\n",
    "                last_completed_date = datetime.strptime(habit['last_completed'], \"%Y-%m-%d\").date()\n",
    "\n",
    "                if last_completed_date == today:\n",
    "                    # Already completed today; don't increase streak again\n",
    "                    print(\"You already completed this habit today! Streak remains the same. Total completions updated.\")\n",
    "                elif last_completed_date == today - timedelta(days=1):\n",
    "                    # Completed yesterday → streak +1\n",
    "                    habit['current_streak'] += 1\n",
    "                    habit['last_completed'] = today.strftime(\"%Y-%m-%d\")\n",
    "                    print(f\"Habit '{habit['name']}' updated! Current streak: {habit['current_streak']} days.\")\n",
    "                else:\n",
    "                    # Missed a day → reset streak to 1\n",
    "                    habit['current_streak'] = 1\n",
    "                    habit['last_completed'] = today.strftime(\"%Y-%m-%d\")\n",
    "                    print(f\"Habit '{habit['name']}' streak reset. Starting new streak!\")\n",
    "            else:\n",
    "                # First time completing\n",
    "                habit['current_streak'] = 1\n",
    "                habit['last_completed'] = today.strftime(\"%Y-%m-%d\")\n",
    "                print(f\"Habit '{habit['name']}' started! Current streak: {habit['current_streak']} days.\")\n",
    "        else:\n",
    "            print(\"Invalid habit number.\")\n",
    "    except ValueError:\n",
    "        print(\"Please enter a valid number.\")\n"
   ]
  },
  {
   "cell_type": "code",
   "execution_count": 4,
   "metadata": {},
   "outputs": [],
   "source": [
    "def view_streaks():\n",
    "    if not habits:\n",
    "        print(\"No habits found. Please add some habits first.\")\n",
    "        return\n",
    "\n",
    "    print(\"\\nYour Habit Progress:\")\n",
    "    for habit in habits:\n",
    "        print(f\"- {habit['name']}: {habit['current_streak']} day(s) streak, {habit['completed_days']} total completions\")\n"
   ]
  },
  {
   "cell_type": "code",
   "execution_count": 5,
   "metadata": {},
   "outputs": [],
   "source": [
    "import matplotlib.pyplot as plt\n",
    "\n",
    "def visualize_progress():\n",
    "    if not habits:\n",
    "        print(\"No habits found, Please add some habits\")\n",
    "        return\n",
    "    \n",
    "    print(\"nYour Progress Charts:\")\n",
    "\n",
    "    habit_names = [habit[\"name\"] for habit in habits]\n",
    "    completed_days = [habit[\"completed_days\"] for habit in habits]\n",
    "\n",
    "    plt.figure(figsize=(10, 5))\n",
    "    plt.bar(habit_names, completed_days, color='skyblue')\n",
    "    plt.xlabel('Habit Names')\n",
    "    plt.ylabel('Total Completed Days')\n",
    "    plt.title('Habit Completion Progress')\n",
    "    plt.xticks(rotation=45)\n",
    "    plt.tight_layout()\n",
    "    plt.show()"
   ]
  },
  {
   "cell_type": "code",
   "execution_count": 6,
   "metadata": {},
   "outputs": [],
   "source": [
    "import json\n",
    "\n",
    "def save_habits():\n",
    "    if not habits:\n",
    "        print(\"No habits to save.\")\n",
    "        return\n",
    "    \n",
    "    try:\n",
    "        with open(\"habits.json\", \"w\") as file:\n",
    "            json.dump(habits, file)\n",
    "        print(\"Habits saved successfully!\")\n",
    "    except Exception as e:\n",
    "        print(f\"Error saving habits: {e}\")\n",
    "        "
   ]
  },
  {
   "cell_type": "code",
   "execution_count": 7,
   "metadata": {},
   "outputs": [],
   "source": [
    "\n",
    "def load_habits():\n",
    "    global habits\n",
    "    try:\n",
    "        with open(\"habits.json\", \"r\") as file:\n",
    "            habits = json.load(file)\n",
    "        print(\"Habits loaded successfully!\")\n",
    "    except FileNotFoundError:\n",
    "        print(\"No saved habits found. Starting fresh.\")\n",
    "    except Exception as e:\n",
    "        print(f\"Error loading habits: {e}\")"
   ]
  },
  {
   "cell_type": "code",
   "execution_count": 8,
   "metadata": {},
   "outputs": [],
   "source": [
    "\n",
    "def menu():\n",
    "    while True:\n",
    "        print(\"\\nHabit Tracker Menu\")\n",
    "        print(\"1. Add new habit\")\n",
    "        print(\"2. Mark habit complete\")\n",
    "        print(\"3. View habit progress\")\n",
    "        print(\"4. Visualize progress\")\n",
    "        print(\"5. Save habits\")\n",
    "        print(\"6. Load habits\")\n",
    "        print(\"0. Exit\")\n",
    "        \n",
    "        choice = input(\"Enter your choice (0-6): \")\n",
    "        \n",
    "        if choice == '1':\n",
    "            add_habit()\n",
    "        elif choice == '2':\n",
    "            mark_habit_complete()\n",
    "        elif choice == '3':\n",
    "            view_streaks()\n",
    "        elif choice == '4':\n",
    "            visualize_progress()\n",
    "        elif choice == '5':\n",
    "            save_habits()\n",
    "        elif choice == '6':\n",
    "            load_habits()\n",
    "        elif choice == '0':\n",
    "            print(\"Goodbye!\")\n",
    "            break\n",
    "        else:\n",
    "            print(\"Invalid choice. Please try again.\")\n",
    "\n"
   ]
  },
  {
   "cell_type": "code",
   "execution_count": null,
   "metadata": {},
   "outputs": [],
   "source": [
    "# Run the program\n",
    "menu()"
   ]
  }
 ],
 "metadata": {
  "kernelspec": {
   "display_name": "Python 3",
   "language": "python",
   "name": "python3"
  },
  "language_info": {
   "codemirror_mode": {
    "name": "ipython",
    "version": 3
   },
   "file_extension": ".py",
   "mimetype": "text/x-python",
   "name": "python",
   "nbconvert_exporter": "python",
   "pygments_lexer": "ipython3",
   "version": "3.13.2"
  }
 },
 "nbformat": 4,
 "nbformat_minor": 2
}
